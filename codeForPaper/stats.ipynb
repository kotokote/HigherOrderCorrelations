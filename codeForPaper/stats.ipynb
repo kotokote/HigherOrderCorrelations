{
 "cells": [
  {
   "cell_type": "code",
   "execution_count": 1,
   "metadata": {},
   "outputs": [
    {
     "name": "stderr",
     "output_type": "stream",
     "text": [
      "/tmp/ipykernel_845617/595612206.py:5: DeprecationWarning: \n",
      "Pyarrow will become a required dependency of pandas in the next major release of pandas (pandas 3.0),\n",
      "(to allow more performant data types, such as the Arrow string type, and better interoperability with other libraries)\n",
      "but was not found to be installed on your system.\n",
      "If this would cause problems for you,\n",
      "please provide us feedback at https://github.com/pandas-dev/pandas/issues/54466\n",
      "        \n",
      "  import pandas as pd\n"
     ]
    }
   ],
   "source": [
    "#This file is only looking at the roster plots for old organoid data\n",
    "import networkx as nx\n",
    "import numpy as np\n",
    "import pickle\n",
    "import pandas as pd\n",
    "from scipy.io import loadmat\n",
    "import h5py\n",
    "from scipy.ndimage import gaussian_filter\n",
    "from scipy.signal import correlate, gaussian\n",
    "from scipy.ndimage import gaussian_filter1d\n",
    "from tqdm import tqdm\n",
    "import itertools\n",
    "from pathlib import Path\n",
    "import torch\n",
    "from torch.nn import functional as F\n",
    "from matplotlib import pyplot as plt"
   ]
  },
  {
   "cell_type": "code",
   "execution_count": null,
   "metadata": {},
   "outputs": [],
   "source": [
    "FILES_HUMAN = [\n",
    "    \"2950_spike_mat_or_rand\", #26\n",
    "    # \"2953_spike_mat_or_rand\", #Tal paper\n",
    "    \"2957_spike_mat_or_rand\",\n",
    "    # \"5116_spike_mat_or_rand\",\n",
    "    \"O5_t_spk_mat_sorted\",\n",
    "    \"O6_t_spk_mat_sorted\",\n",
    "]\n",
    "\n",
    "FILES_MOUSE = [\n",
    "    \"UCSC_mouse_Pasca_23129\",\n",
    "    \"UCSC_mouse_Pasca_23149\",\n",
    "    \"UCSC_mouse_Pasca_23179\",\n",
    "]"
   ]
  }
 ],
 "metadata": {
  "kernelspec": {
   "display_name": "base",
   "language": "python",
   "name": "python3"
  },
  "language_info": {
   "codemirror_mode": {
    "name": "ipython",
    "version": 3
   },
   "file_extension": ".py",
   "mimetype": "text/x-python",
   "name": "python",
   "nbconvert_exporter": "python",
   "pygments_lexer": "ipython3",
   "version": "3.10.10"
  }
 },
 "nbformat": 4,
 "nbformat_minor": 2
}
